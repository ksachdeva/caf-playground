{
 "cells": [
  {
   "cell_type": "code",
   "execution_count": 1,
   "metadata": {},
   "outputs": [],
   "source": [
    "// we need to specify the path and explicitly load the CAF library\n",
    "#pragma cling add_library_path(\"/usr/local/lib\")\n",
    "#pragma cling add_include_path(\"/usr/local/include\")\n",
    "#pragma cling load(\"/usr/local/lib/libcaf_core.so\")"
   ]
  },
  {
   "cell_type": "markdown",
   "metadata": {},
   "source": [
    "# Testing"
   ]
  },
  {
   "cell_type": "code",
   "execution_count": 2,
   "metadata": {},
   "outputs": [],
   "source": [
    "// CAF_TEST_NO_MAIN is required for this notebook\n",
    "#define CAF_TEST_NO_MAIN\n",
    "\n",
    "// CAF_SUITE specifies the name of the test_suite\n",
    "// Your can divide your tests in multiple testsuites\n",
    "// For this notebook we will only one suite\n",
    "#define CAF_SUITE playground_suite"
   ]
  },
  {
   "cell_type": "markdown",
   "metadata": {},
   "source": [
    "Necessary header file inclusion"
   ]
  },
  {
   "cell_type": "code",
   "execution_count": 3,
   "metadata": {},
   "outputs": [],
   "source": [
    "#include <caf/test/dsl.hpp>\n",
    "#include <caf/test/unit_test.hpp>\n",
    "#include <caf/test/unit_test_impl.hpp>"
   ]
  },
  {
   "cell_type": "markdown",
   "metadata": {},
   "source": [
    "## Most basic test case"
   ]
  },
  {
   "cell_type": "code",
   "execution_count": 4,
   "metadata": {},
   "outputs": [],
   "source": [
    "namespace n1 {\n",
    "\n",
    "struct fixture {};\n",
    "    \n",
    "CAF_TEST_FIXTURE_SCOPE(math_tests, fixture)\n",
    "\n",
    "CAF_TEST(divide) {\n",
    "    CAF_CHECK(1 / 1 == 0); // this would fail\n",
    "    CAF_CHECK(2 / 2 == 1); // this would pass\n",
    "//     CAF_REQUIRE(3 + 3 == 5); // this would fail and stop test execution [uncomment to try]\n",
    "    CAF_CHECK(4 - 4 == 0); // You would not reach here because of failed REQUIRE\n",
    "}\n",
    "\n",
    "CAF_TEST_FIXTURE_SCOPE_END()\n",
    "    \n",
    "}"
   ]
  },
  {
   "cell_type": "markdown",
   "metadata": {},
   "source": [
    "Above is a simple fixture that contains one test case only i.e. **divide**.\n",
    "\n",
    "We have used few macros such as CAF_CHECK and CAF_REQUIRE to validate our assertions. The main\n",
    "difference between CAF_REQUIRE and CAF_CHECK is that even if CAF_CHECK fails the control flow will\n",
    "continue, however failure of assertion by CAF_REQUIRE will stop the test exeuction."
   ]
  },
  {
   "cell_type": "markdown",
   "metadata": {},
   "source": [
    "## Testing Actors"
   ]
  },
  {
   "cell_type": "markdown",
   "metadata": {},
   "source": [
    "A simple example of a test case is shown below. This example shows that you can create the actor system in your fixture, spawn actors and send messages to them. In other words, below code is not very different from your regular program however here we are using the macros such as CAF_CHECK and have arranged them as test cases."
   ]
  },
  {
   "cell_type": "code",
   "execution_count": 5,
   "metadata": {},
   "outputs": [],
   "source": [
    "namespace n2 {\n",
    "    \n",
    "#define ERROR_HANDLER [&](caf::error &err) { CAF_FAIL(sys.render(err)); }\n",
    "    \n",
    "struct actor_fixture {\n",
    "  caf::actor_system_config cfg;\n",
    "  caf::actor_system sys;\n",
    "  caf::scoped_actor self;\n",
    "    \n",
    "  actor_fixture()\n",
    "      : sys(cfg),\n",
    "        self(sys) {}\n",
    "\n",
    "  ~actor_fixture() {}\n",
    "};\n",
    "\n",
    "caf::behavior adder(caf::event_based_actor *self) {\n",
    "    return {\n",
    "        [=](int x, int y) -> int {\n",
    "            return x+y;\n",
    "        }\n",
    "    };\n",
    "}    \n",
    "    \n",
    "CAF_TEST_FIXTURE_SCOPE(actor_tests, actor_fixture)\n",
    "\n",
    "CAF_TEST(simple_actor_test) {\n",
    "    auto adder_actor = sys.spawn(adder);\n",
    "    \n",
    "    self->request(adder_actor, caf::infinite, 3, 4).receive([=](int r){\n",
    "        CAF_CHECK(r == 7);\n",
    "    }, ERROR_HANDLER);\n",
    "}\n",
    "\n",
    "CAF_TEST_FIXTURE_SCOPE_END()\n",
    "    \n",
    "}"
   ]
  },
  {
   "cell_type": "markdown",
   "metadata": {},
   "source": [
    "While the above example works, very soon you would start to face following problems -\n",
    "\n",
    "* Lot of boilerplate\n",
    "* Above is a simple example of one actor, if you are unit testing one actor it would work however the reality\n",
    "is that you would have your actor invoking another actor. Writing code to validate that behavior is not so easy.\n",
    "* You primary goal would be to check the interaction between the actors and not necessarily the scheduling on \n",
    "multiple threads and/or the asynchronous nature of it."
   ]
  },
  {
   "cell_type": "markdown",
   "metadata": {},
   "source": [
    "So how do we write the tests in more declarative and synchronous manner ?"
   ]
  },
  {
   "cell_type": "markdown",
   "metadata": {},
   "source": [
    "### Test Coordinator"
   ]
  },
  {
   "cell_type": "markdown",
   "metadata": {},
   "source": [
    "CAF provides an implementation of coordinator (called test_coordinator) that you supply to the scheduler. This coordinator is specifically designed for testing as it does not perform/schedule your actors on multiple thread and provide you the means to run it."
   ]
  },
  {
   "cell_type": "markdown",
   "metadata": {},
   "source": [
    "There is also a fixture class called *test_coordinator_fixture* that is provided to hide the details and boilerplate for setting up the scheduler with **test_corrdinator**."
   ]
  },
  {
   "cell_type": "code",
   "execution_count": 6,
   "metadata": {},
   "outputs": [],
   "source": [
    "namespace n3 {\n",
    "    \n",
    "using an_atom =\n",
    "    caf::atom_constant<caf::atom(\"an_atom\")>;\n",
    "    \n",
    "caf::behavior ping(caf::event_based_actor* self) {\n",
    "    return {\n",
    "      [=](an_atom) -> std::string {\n",
    "          return \"pong\";\n",
    "      }  \n",
    "    };\n",
    "}\n",
    "    \n",
    "caf::behavior pong(caf::event_based_actor* self) {\n",
    "    return {\n",
    "      [=](an_atom, bool pang) -> std::string {\n",
    "          return pang ? \"pang\" : \"ping\";\n",
    "      }  \n",
    "    };\n",
    "}\n",
    "    \n",
    "    \n",
    "struct ping_pong_fixture : test_coordinator_fixture<> {\n",
    "};\n",
    "    \n",
    "CAF_TEST_FIXTURE_SCOPE(ping_pong_tests, ping_pong_fixture)\n",
    "\n",
    "CAF_TEST(ping_should_return_pong) {\n",
    "    auto ping_actor = sys.spawn(ping);\n",
    "    \n",
    "    self->send(ping_actor, an_atom::value);\n",
    "    \n",
    "    // check if we sent it correctly\n",
    "    expect((an_atom), from(self).to(ping_actor).with(an_atom::value));\n",
    "    // check the response we will get back\n",
    "    expect((std::string), from(ping_actor).to(self).with(\"pong\"));\n",
    "}\n",
    "    \n",
    "\n",
    "CAF_TEST(pong_should_return_ping_or_pang) {\n",
    "    auto pong_actor = sys.spawn(pong);\n",
    "    \n",
    "    // check if we pass true that it should return pang\n",
    "    self->send(pong_actor, an_atom::value, true);\n",
    "    \n",
    "    // check if we sent it correctly\n",
    "    expect((an_atom, bool), from(self).to(pong_actor).with(an_atom::value, true));\n",
    "    // check the response we will get back\n",
    "    expect((std::string), from(pong_actor).to(self).with(\"pang\"));\n",
    "    \n",
    "        \n",
    "    // check if we pass false that it should return ping\n",
    "    self->send(pong_actor, an_atom::value, false);\n",
    "    \n",
    "    // check if we sent it correctly\n",
    "    expect((an_atom, bool), from(self).to(pong_actor).with(an_atom::value, false));\n",
    "    // check the response we will get back\n",
    "    expect((std::string), from(pong_actor).to(self).with(\"ping\"));\n",
    "    \n",
    "}\n",
    "\n",
    "CAF_TEST_FIXTURE_SCOPE_END()\n",
    "    \n",
    "}"
   ]
  },
  {
   "cell_type": "markdown",
   "metadata": {},
   "source": [
    "Above shows an excellent way to declarative testing of your actors.\n",
    "\n",
    "\n",
    "What happens behind the scenes is that **expect** macro schedules the run using the test_coordinator. Now there will\n",
    "be scenarios where before you get to test your actor implementation you may want to set them up. That setup would require sending some messages. \n",
    "\n",
    "Next example show case the pattern that you could use for such test cases."
   ]
  },
  {
   "cell_type": "code",
   "execution_count": 7,
   "metadata": {},
   "outputs": [],
   "source": [
    "namespace n4 {\n",
    "    \n",
    "// Here we have a stateful actor that requires that\n",
    "// you call its third method only after the first and second methods\n",
    "// have been called\n",
    "    \n",
    "struct SomeActorInfo{\n",
    "    bool invoked_first_method;\n",
    "    bool invoked_second_method;\n",
    "};   \n",
    "    \n",
    "caf::behavior make_some_actor(caf::stateful_actor<SomeActorInfo> *self) {\n",
    "    return {\n",
    "      [=](int x) -> std::string {\n",
    "          self->state.invoked_first_method = true;\n",
    "          return \"invoked method with int\";\n",
    "      },\n",
    "        \n",
    "      [=](float y) -> std::string {\n",
    "          self->state.invoked_second_method = true;\n",
    "          return \"invoked method with float\";\n",
    "      },\n",
    "        \n",
    "      [=](std::string) -> int {\n",
    "          if (self->state.invoked_first_method == false || \n",
    "              self->state.invoked_second_method == false) {\n",
    "              return -1;\n",
    "          }\n",
    "          return 0;\n",
    "      }\n",
    "    };\n",
    "}\n",
    "    \n",
    "    \n",
    "struct some_actor_fixture : test_coordinator_fixture<> {\n",
    "};\n",
    "    \n",
    "CAF_TEST_FIXTURE_SCOPE(some_actor_tests, some_actor_fixture)\n",
    "\n",
    "CAF_TEST(some_actor_test_3rd_method) {\n",
    "    auto some_actor = sys.spawn(make_some_actor);\n",
    "    \n",
    "    // in this test case we are only interested in\n",
    "    // testing the third method\n",
    "    //\n",
    "    // However the first and second method needs to be invoked\n",
    "    // as well so that they can update the proper state.\n",
    "    //\n",
    "    // While we could using 'expect' macro 2 times for each method call\n",
    "    // but it would be just noise. Instead we will use 'run' method to\n",
    "    // dispatch all the pending messages to all the actors\n",
    "    \n",
    "    self->send(some_actor, 1);\n",
    "    self->send(some_actor, (float)0.3);\n",
    "\n",
    "    std::cout << \"Number of messages processed - \" << run() << std::endl;\n",
    "    \n",
    "    // now we can finally test the method that we wanted to test\n",
    "    self->send(some_actor, \"hey\");\n",
    "    \n",
    "    expect((std::string), from(self).to(some_actor).with(\"hey\"));\n",
    "    expect((int), from(some_actor).to(self).with(0));\n",
    "    \n",
    "}\n",
    "\n",
    "\n",
    "CAF_TEST_FIXTURE_SCOPE_END()\n",
    "    \n",
    "}"
   ]
  },
  {
   "cell_type": "code",
   "execution_count": null,
   "metadata": {},
   "outputs": [
    {
     "name": "stderr",
     "output_type": "stream",
     "text": [
      "\u001b[33m+----------------------------------------------------------------------+\n",
      "                            playground_suite\n",
      "+----------------------------------------------------------------------+\u001b[0m\n",
      "\n",
      "\u001b[33m- \u001b[0mdivide\n",
      "\u001b[33m  -> \u001b[36m3\u001b[0m checks took \u001b[36m1 ms\u001b[0m\n",
      " (\u001b[32m2\u001b[0m/\u001b[31m1\u001b[0m)\n",
      "\u001b[33m- \u001b[0msimple_actor_test\n",
      "\u001b[33m  -> \u001b[36m1\u001b[0m check took \u001b[36m240 ms\u001b[0m\n",
      "\n",
      "\u001b[33m- \u001b[0mping_should_return_pong\n",
      "\u001b[33m  -> \u001b[0mexpect(an_atom).from(self).to(ping_actor).with(an_atom::value) [line 33]\n",
      "\u001b[33m  -> \u001b[0mexpect(std::string).from(ping_actor).to(self).with(\"pong\") [line 35]\n",
      "\u001b[33m  -> \u001b[36m7\u001b[0m checks took \u001b[36m219 ms\u001b[0m\n",
      "\n",
      "\u001b[33m- \u001b[0mpong_should_return_ping_or_pang\n",
      "\u001b[33m  -> \u001b[0mexpect(an_atom, bool).from(self).to(pong_actor).with(an_atom::value, true) [line 45]\n",
      "\u001b[33m  -> \u001b[0mexpect(std::string).from(pong_actor).to(self).with(\"pang\") [line 47]\n",
      "\u001b[33m  -> \u001b[0mexpect(an_atom, bool).from(self).to(pong_actor).with(an_atom::value, false) [line 54]\n",
      "\u001b[33m  -> \u001b[0mexpect(std::string).from(pong_actor).to(self).with(\"ping\") [line 56]\n",
      "\u001b[33m  -> \u001b[36m16\u001b[0m checks took \u001b[36m212 ms\u001b[0m\n",
      "\n",
      "\u001b[33m- \u001b[0msome_actor_test_3rd_method\n"
     ]
    },
    {
     "name": "stdout",
     "output_type": "stream",
     "text": [
      "Number of messages processed - "
     ]
    },
    {
     "name": "stderr",
     "output_type": "stream",
     "text": [
      "\u001b[33m  -> \u001b[0mfirst [line 16]\n",
      "\u001b[33m  -> \u001b[0msecond [line 22]\n"
     ]
    },
    {
     "name": "stdout",
     "output_type": "stream",
     "text": [
      "2\n"
     ]
    },
    {
     "name": "stderr",
     "output_type": "stream",
     "text": [
      "\u001b[33m  -> \u001b[0mexpect(std::string).from(self).to(some_actor).with(\"hey\") [line 62]\n",
      "\u001b[33m  -> \u001b[0mthird [line 27]\n",
      "\u001b[33m  -> \u001b[0mexpect(int).from(some_actor).to(self).with(0) [line 63]\n",
      "\u001b[31m  -> \u001b[0mMessage does not match expected pattern: (\"invoked method with int\") [line 284]\n",
      "\u001b[31m     REQUIRED: test failure\u001b[0m\n",
      "     \u001b[34m/usr/local/include/caf/test/dsl.hpp\u001b[33m:\u001b[36m354\u001b[0m  had last successful check"
     ]
    }
   ],
   "source": [
    "// This is to run the test suite from the notebook.\n",
    "// In your actual program you would not need to do \n",
    "// this as you would simply run the executable. Make sure\n",
    "// to not define CAF_TEST_NO_MAIN\n",
    "char* tn = (char *)std::string(\"tests\").c_str();\n",
    "caf::test::main(1, &tn);"
   ]
  },
  {
   "cell_type": "code",
   "execution_count": null,
   "metadata": {},
   "outputs": [],
   "source": []
  }
 ],
 "metadata": {
  "kernelspec": {
   "display_name": "C++14",
   "language": "C++14",
   "name": "xcpp14"
  },
  "language_info": {
   "codemirror_mode": "text/x-c++src",
   "file_extension": ".cpp",
   "mimetype": "text/x-c++src",
   "name": "c++",
   "version": "-std=c++14"
  }
 },
 "nbformat": 4,
 "nbformat_minor": 2
}
