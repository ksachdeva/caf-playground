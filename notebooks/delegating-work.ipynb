{
 "cells": [
  {
   "cell_type": "code",
   "execution_count": 1,
   "metadata": {},
   "outputs": [],
   "source": [
    "// we need to specify the path and explicitly load the CAF library\n",
    "#pragma cling add_library_path(\"/usr/local/lib\")\n",
    "#pragma cling add_include_path(\"/usr/local/include\")\n",
    "#pragma cling load(\"/usr/local/lib/libcaf_core.so\")"
   ]
  },
  {
   "cell_type": "markdown",
   "metadata": {},
   "source": [
    "# Delegating Work"
   ]
  },
  {
   "cell_type": "markdown",
   "metadata": {},
   "source": [
    "This example tries to build scenario described below -:\n",
    "\n",
    "Let's say you have worker actors. As the name implies they do some work.\n",
    "In our scenario, all of them are equally capable and able to do the same type of work.\n",
    "\n",
    "You have a manager actor. As the name implies it would do some management.\n",
    "In this example, the management is about\n",
    "\n",
    "  - maintaining the list of workers\n",
    "  - assigning a worker to the customer\n",
    "  - once customers work is done, unassigning that work and make it free\n",
    "  - passing the work from customer to the worker assigned for that customer\n",
    "\n",
    "\n",
    "We will have customer actors as well. Now these customer actors will not be\n",
    "directly aware of which workers were assigned to do their work. A customer actor\n",
    "will always go via a manager actor."
   ]
  },
  {
   "cell_type": "code",
   "execution_count": 3,
   "metadata": {},
   "outputs": [],
   "source": [
    "#include <caf/all.hpp>"
   ]
  },
  {
   "cell_type": "markdown",
   "metadata": {},
   "source": [
    "## Define traits"
   ]
  },
  {
   "cell_type": "markdown",
   "metadata": {},
   "source": [
    "### Workers"
   ]
  },
  {
   "cell_type": "code",
   "execution_count": 4,
   "metadata": {},
   "outputs": [],
   "source": [
    "using work_rr_atom = caf::atom_constant<caf::atom(\"work_rr\")>;\n",
    "\n",
    "// let's define a trait for our worker actors\n",
    "using worker_actor = caf::typed_actor<\n",
    "\n",
    "    // only trait required for our worker\n",
    "    caf::replies_to<work_rr_atom, std::string>::with<std::string>\n",
    "\n",
    "    >;"
   ]
  },
  {
   "cell_type": "markdown",
   "metadata": {},
   "source": [
    "### Manager"
   ]
  },
  {
   "cell_type": "code",
   "execution_count": 5,
   "metadata": {},
   "outputs": [],
   "source": [
    "using manager_reg_worker_atom = caf::atom_constant<caf::atom(\"man_reg\")>;\n",
    "using manager_assign_customer_atom = caf::atom_constant<caf::atom(\"man_a_cus\")>;\n",
    "using manager_unassign_customer_atom =\n",
    "    caf::atom_constant<caf::atom(\"man_u_cus\")>;\n",
    "using manager_pass_work_atom = caf::atom_constant<caf::atom(\"man_p_work\")>;\n",
    "\n",
    "using manager_actor = caf::typed_actor<\n",
    "\n",
    "    // register a worker actor\n",
    "    caf::reacts_to<manager_reg_worker_atom, worker_actor>,\n",
    "\n",
    "    // assign a customer to the first available worker actor\n",
    "    // a customer is identified using customer_id\n",
    "    caf::reacts_to<manager_assign_customer_atom, std::string>,\n",
    "\n",
    "    // unassign the allocated worker for the customer\n",
    "    caf::reacts_to<manager_unassign_customer_atom, std::string>,\n",
    "\n",
    "    // ask the worker to do some work\n",
    "    caf::replies_to<manager_pass_work_atom, std::string,\n",
    "                    std::string>::with<std::string>\n",
    "\n",
    "    >;"
   ]
  },
  {
   "cell_type": "markdown",
   "metadata": {},
   "source": [
    "### Customer"
   ]
  },
  {
   "cell_type": "code",
   "execution_count": 6,
   "metadata": {},
   "outputs": [],
   "source": [
    "using customer_rr_atom = caf::atom_constant<caf::atom(\"cust_rr\")>;\n",
    "\n",
    "using customer_actor = caf::typed_actor<\n",
    "\n",
    "    // only trait required for our worker\n",
    "    caf::replies_to<customer_rr_atom, std::string>::with<std::string>\n",
    "\n",
    "    >;\n"
   ]
  },
  {
   "cell_type": "markdown",
   "metadata": {},
   "source": [
    "## Implementations of various traits"
   ]
  },
  {
   "cell_type": "markdown",
   "metadata": {},
   "source": [
    "### Worker"
   ]
  },
  {
   "cell_type": "markdown",
   "metadata": {},
   "source": [
    "A simple implementation that just reverses the string passed to it."
   ]
  },
  {
   "cell_type": "code",
   "execution_count": 7,
   "metadata": {},
   "outputs": [],
   "source": [
    "worker_actor::behavior_type make_worker_actor(worker_actor::pointer self,\n",
    "                                              int worker_id) {\n",
    "\n",
    "  return {\n",
    "\n",
    "      // the behaviors of this actor\n",
    "\n",
    "      // the only behavior. We keep it simply by simply reversing the passed\n",
    "      // strings\n",
    "      [=](work_rr_atom, const std::string &some_work) {\n",
    "        caf::aout(self) << \"Worker \" << worker_id << \" is working !\"\n",
    "                        << std::endl;\n",
    "        return std::string(some_work.rbegin(), some_work.rend());\n",
    "      }\n",
    "\n",
    "  };\n",
    "}"
   ]
  },
  {
   "cell_type": "markdown",
   "metadata": {},
   "source": [
    "### Manager"
   ]
  },
  {
   "cell_type": "markdown",
   "metadata": {},
   "source": [
    "Now this is the actor that does some **management** :) \n",
    "\n",
    "It is a simple implementation that uses a **map** to assign an actor for a given **customer_id**."
   ]
  },
  {
   "cell_type": "code",
   "execution_count": 8,
   "metadata": {},
   "outputs": [],
   "source": [
    "struct WorkerInfo {\n",
    "  bool is_assigned;\n",
    "  worker_actor wa;\n",
    "};\n",
    "\n",
    "struct ManagerState {\n",
    "  // this keeps the state\n",
    "  std::vector<WorkerInfo> workers;\n",
    "\n",
    "  // cache to access the worker actor quickly\n",
    "  std::map<std::string, worker_actor> actors_cache;\n",
    "};\n",
    "\n",
    "class ManagerActor : public manager_actor::base {\n",
    "public:\n",
    "  ManagerActor(caf::actor_config &cfg) : manager_actor::base(cfg) {}\n",
    "  ~ManagerActor() { std::cout << \"Destroying ManagerActor\" << std::endl; }\n",
    "\n",
    "private:\n",
    "  ManagerState state;\n",
    "\n",
    "public:\n",
    "  ManagerActor::behavior_type make_behavior() {\n",
    "\n",
    "    return {\n",
    "\n",
    "        [=](manager_reg_worker_atom, const worker_actor &wa) {\n",
    "          caf::aout(this) << \"Registering worker \" << std::endl;\n",
    "          this->state.workers.emplace_back(WorkerInfo{false, wa});\n",
    "        },\n",
    "\n",
    "        [=](manager_assign_customer_atom, const std::string &customer_id) {\n",
    "          for (auto &wi : this->state.workers) {\n",
    "            if (!wi.is_assigned) {\n",
    "              caf::aout(this)\n",
    "                  << \"Assigning \" << customer_id << \" a worker\" << std::endl;\n",
    "              wi.is_assigned = true;\n",
    "              this->state.actors_cache[customer_id] = wi.wa;\n",
    "              break;\n",
    "            }\n",
    "          }\n",
    "        },\n",
    "\n",
    "        [=](manager_unassign_customer_atom, const std::string &customer_id) {\n",
    "          auto wa = this->state.actors_cache[customer_id];\n",
    "\n",
    "          for (auto &wi : this->state.workers) {\n",
    "            if (wa == wi.wa) {\n",
    "              caf::aout(this)\n",
    "                  << \"unassigning worker for \" << customer_id << std::endl;\n",
    "              wi.is_assigned = false;\n",
    "              this->state.actors_cache.erase(customer_id);\n",
    "            }\n",
    "          }\n",
    "        },\n",
    "\n",
    "        [=](manager_pass_work_atom, const std::string &customer_id,\n",
    "            const std::string &message) {\n",
    "          if (this->state.actors_cache.count(customer_id) == 0) {\n",
    "            caf::aout(this)\n",
    "                << \"No worker assigned for this customer \" << std::endl;\n",
    "            return this->response(std::string(\"sorry no one available !\"));\n",
    "          }\n",
    "\n",
    "          auto wa = this->state.actors_cache[customer_id];\n",
    "\n",
    "          auto rp = this->make_response_promise<std::string>();\n",
    "          this->request(wa, caf::infinite, work_rr_atom::value, message)\n",
    "              .then([=](const std::string &resp) mutable { rp.deliver(resp); });\n",
    "\n",
    "          return rp;\n",
    "        }\n",
    "\n",
    "    };\n",
    "  }\n",
    "};"
   ]
  },
  {
   "cell_type": "markdown",
   "metadata": {},
   "source": [
    "### Customer"
   ]
  },
  {
   "cell_type": "code",
   "execution_count": 9,
   "metadata": {},
   "outputs": [],
   "source": [
    "class CustomerActor : public customer_actor::base {\n",
    "public:\n",
    "  CustomerActor(caf::actor_config &cfg, const std::string &customer_id,\n",
    "                const manager_actor &ma)\n",
    "      : customer_actor::base(cfg), _customer_id(customer_id), _ma(ma) {}\n",
    "  ~CustomerActor() { std::cout << \"Destroying CustomerActor\" << std::endl; }\n",
    "\n",
    "private:\n",
    "  manager_actor _ma;\n",
    "  std::string _customer_id;\n",
    "\n",
    "public:\n",
    "  CustomerActor::behavior_type make_behavior() {\n",
    "\n",
    "    return {\n",
    "\n",
    "        // the behaviors of this actor\n",
    "\n",
    "        // the only behavior.\n",
    "        [=](customer_rr_atom, const std::string &some_work) {\n",
    "          // Customer is going to send the work to the manager who\n",
    "          // will then send it to the worker assigned to this customer\n",
    "\n",
    "          auto rp = this->make_response_promise<std::string>();\n",
    "\n",
    "          this->request(_ma, caf::infinite, manager_pass_work_atom::value,\n",
    "                        this->_customer_id, some_work)\n",
    "              .then([=](const std::string &response) mutable {\n",
    "                rp.deliver(response);\n",
    "              });\n",
    "\n",
    "          return rp;\n",
    "        }};\n",
    "  }\n",
    "};"
   ]
  },
  {
   "cell_type": "markdown",
   "metadata": {},
   "source": [
    "## Main / Entrypoint"
   ]
  },
  {
   "cell_type": "code",
   "execution_count": 10,
   "metadata": {},
   "outputs": [],
   "source": [
    "void caf_main() {\n",
    "    \n",
    "  caf::actor_system_config cfg;\n",
    "  caf::actor_system system{cfg};\n",
    "  caf::scoped_actor self{system};\n",
    "\n",
    "  // let's spawn 4 worker actors\n",
    "  auto worker_actor_1 = self->spawn(make_worker_actor, 1);\n",
    "  auto worker_actor_2 = self->spawn(make_worker_actor, 2);\n",
    "  auto worker_actor_3 = self->spawn(make_worker_actor, 3);\n",
    "  auto worker_actor_4 = self->spawn(make_worker_actor, 4);\n",
    "\n",
    "  // spawn 1 manager actor\n",
    "  auto manager_actor_1 = self->spawn<ManagerActor>();\n",
    "\n",
    "  std::string customer_1_id(\"customer_1\");\n",
    "  std::string customer_2_id(\"customer_2\");\n",
    "\n",
    "  // spawn 2 Customer Actors\n",
    "  auto customer_actor_1 =\n",
    "      self->spawn<CustomerActor>(customer_1_id, manager_actor_1);\n",
    "  auto customer_actor_2 =\n",
    "      self->spawn<CustomerActor>(customer_2_id, manager_actor_1);\n",
    "\n",
    "  // now that relationship between customer and manager is established\n",
    "  // we will register/assign our workers with manager\n",
    "\n",
    "  self->request(manager_actor_1, caf::infinite, manager_reg_worker_atom::value,\n",
    "                worker_actor_1);\n",
    "  self->request(manager_actor_1, caf::infinite, manager_reg_worker_atom::value,\n",
    "                worker_actor_2);\n",
    "  self->request(manager_actor_1, caf::infinite, manager_reg_worker_atom::value,\n",
    "                worker_actor_3);\n",
    "  self->request(manager_actor_1, caf::infinite, manager_reg_worker_atom::value,\n",
    "                worker_actor_4);\n",
    "\n",
    "  // let's assign a worker to a customer\n",
    "  self->request(manager_actor_1, caf::infinite,\n",
    "                manager_assign_customer_atom::value, customer_1_id);\n",
    "\n",
    "  // now we send a message to a customer which delegates to manager\n",
    "  // to manager which delegates to worker\n",
    "  self->request(customer_actor_1, caf::infinite, customer_rr_atom::value,\n",
    "                \"work_from_cust_1\")\n",
    "      .receive(\n",
    "          [=](const std::string &work_response) {\n",
    "            // caf::aout(self) << work_response << std::endl;\n",
    "            std::cout << \"Response for first request - \" << work_response\n",
    "                      << std::endl;\n",
    "          },\n",
    "          [=](const caf::error &err) {\n",
    "            std::cout << \"Errored 1\" << std::endl;\n",
    "          });\n",
    "\n",
    "  // unassign the worker for customer 1\n",
    "  self->request(manager_actor_1, caf::infinite,\n",
    "                manager_unassign_customer_atom::value, customer_1_id);\n",
    "\n",
    "  // now try to send a message to a customer which should fail in some\n",
    "  // way as there is no worker assigned\n",
    "  self->request(customer_actor_1, caf::infinite, customer_rr_atom::value,\n",
    "                \"additional_work_from_cust_1\")\n",
    "      .receive(\n",
    "          [=](const std::string &work_response) {\n",
    "            // caf::aout(self) << work_response << std::endl;\n",
    "            std::cout << \"Response for second request - \" << work_response\n",
    "                      << std::endl;\n",
    "          },\n",
    "          [=](const caf::error &err) {\n",
    "            std::cout << \"Errored 2\" << std::endl;\n",
    "          });\n",
    "\n",
    "  std::cout << \"Press any char to terminate ..\" << std::endl;\n",
    "  std::cin.get();\n",
    "}"
   ]
  },
  {
   "cell_type": "code",
   "execution_count": 11,
   "metadata": {},
   "outputs": [
    {
     "name": "stdout",
     "output_type": "stream",
     "text": [
      "Registering worker \n",
      "Registering worker \n",
      "Registering worker \n",
      "Registering worker \n",
      "Assigning customer_1 a worker\n",
      "Worker 1 is working !\n",
      "Response for first request - 1_tsuc_morf_krow\n",
      "unassigning worker for customer_1\n",
      "No worker assigned for this customer \n",
      "Response for second request - sorry no one available !\n",
      "Press any char to terminate ..\n"
     ]
    },
    {
     "name": "stdin",
     "output_type": "stream",
     "text": [
      " n\n"
     ]
    },
    {
     "name": "stdout",
     "output_type": "stream",
     "text": [
      "Destroying CustomerActor\n",
      "Destroying CustomerActor\n",
      "Destroying ManagerActor\n"
     ]
    }
   ],
   "source": [
    "caf_main()"
   ]
  },
  {
   "cell_type": "code",
   "execution_count": null,
   "metadata": {},
   "outputs": [],
   "source": []
  }
 ],
 "metadata": {
  "kernelspec": {
   "display_name": "C++14",
   "language": "C++14",
   "name": "xcpp14"
  },
  "language_info": {
   "codemirror_mode": "text/x-c++src",
   "file_extension": ".cpp",
   "mimetype": "text/x-c++src",
   "name": "c++",
   "version": "-std=c++14"
  }
 },
 "nbformat": 4,
 "nbformat_minor": 2
}
