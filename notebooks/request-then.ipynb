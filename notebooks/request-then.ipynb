{
 "cells": [
  {
   "cell_type": "code",
   "execution_count": 1,
   "metadata": {},
   "outputs": [],
   "source": [
    "// we need to specify the path and explicitly load the CAF library\n",
    "#pragma cling add_library_path(\"/usr/local/lib\")\n",
    "#pragma cling add_include_path(\"/usr/local/include\")\n",
    "#pragma cling load(\"/usr/local/lib/libcaf_core.so\")"
   ]
  },
  {
   "cell_type": "markdown",
   "metadata": {},
   "source": [
    "# Request with then"
   ]
  },
  {
   "cell_type": "markdown",
   "metadata": {},
   "source": [
    "This example demonstrates the usage of **then** when you use **request**. Usage of **then** keeps the mailbox of an actor active i.e. messages to its other behaviors can still be sent."
   ]
  },
  {
   "cell_type": "code",
   "execution_count": 2,
   "metadata": {},
   "outputs": [],
   "source": [
    "#include <caf/all.hpp>"
   ]
  },
  {
   "cell_type": "markdown",
   "metadata": {},
   "source": [
    "## An actor that takes long time to respond"
   ]
  },
  {
   "cell_type": "code",
   "execution_count": 4,
   "metadata": {},
   "outputs": [],
   "source": [
    "// This is an event based actor that does something that takes\n",
    "// long time before it returns its result\n",
    "caf::behavior takes_long_time_to_respond(caf::event_based_actor *self) {\n",
    "  return {\n",
    "\n",
    "      // behaviors of our actor\n",
    "\n",
    "      // only behavior its implements is a function\n",
    "      // that takes nothing but returns a value.\n",
    "      // However, it does computation heavy stuff (simulated by sleeping) before\n",
    "      // returning its result.\n",
    "      [=](int x) -> int {\n",
    "        std::this_thread::sleep_for(std::chrono::seconds(5));\n",
    "        return 5 * x;\n",
    "      }};\n",
    "}"
   ]
  },
  {
   "cell_type": "markdown",
   "metadata": {},
   "source": [
    "## An actor that calls *takes_long_time_to_respond* actor"
   ]
  },
  {
   "cell_type": "markdown",
   "metadata": {},
   "source": [
    "This is an implementation of your typical actor that would send a message\n",
    "to a buddy actor. Now the buddy actor is kind of slow in responding back.\n",
    "\n",
    "Also this actor implements more than 1 behavior.\n",
    "\n",
    "What we are trying to learn/demonstrate here is that while SomeOther actor\n",
    "is waiting for a response from buddy can we invoke other behaviors ?"
   ]
  },
  {
   "cell_type": "code",
   "execution_count": 7,
   "metadata": {},
   "outputs": [],
   "source": [
    "caf::behavior some_other_actor(caf::event_based_actor *self,\n",
    "                               const caf::actor &buddy) {\n",
    "\n",
    "  return {\n",
    "\n",
    "      // behaviors of our actor\n",
    "\n",
    "      // this is a behavior 1 that simply receives x and multiply it with 2\n",
    "      [=](int x) -> int {\n",
    "        caf::aout(self) << \"In Behavior 1 \" << std::endl;\n",
    "        return 2 * x;\n",
    "      },\n",
    "\n",
    "      // this is a behavior 2 that simply receives x and returns it with some\n",
    "      // prefix\n",
    "      [=](const std::string &x) -> std::string {\n",
    "        caf::aout(self) << \"In Behavior 2 \" << std::endl;\n",
    "        return \"Hey \" + x;\n",
    "      },\n",
    "\n",
    "      // this is a behavior 3 that sends message to buddy actor and waits for\n",
    "      // its response\n",
    "      //\n",
    "      // Here we used 'then'. This means that the mailbox of this actor will\n",
    "      // be active to receive the messages for other behaviors in the mean time\n",
    "      [=](caf::get_atom) {\n",
    "        self->request(buddy, caf::infinite, 10).then([=](int result) {\n",
    "          caf::aout(self) << \"Received result from buddy \" << result\n",
    "                          << std::endl;\n",
    "        });\n",
    "      }};\n",
    "}\n"
   ]
  },
  {
   "cell_type": "markdown",
   "metadata": {},
   "source": [
    "## Main / Entrypoint"
   ]
  },
  {
   "cell_type": "code",
   "execution_count": 8,
   "metadata": {},
   "outputs": [],
   "source": [
    "void caf_main() {\n",
    "    \n",
    "  caf::actor_system_config cfg;\n",
    "  caf::actor_system system{cfg};\n",
    "  caf::scoped_actor self{system};\n",
    "\n",
    "  auto buddy = self->spawn(takes_long_time_to_respond);\n",
    "  auto some_one = self->spawn(some_other_actor, buddy);\n",
    "\n",
    "  // time to send messages\n",
    "  //\n",
    "  // Again what we intend to learn here is that we would issue\n",
    "  // message to behavior 3 of some_one and we know that it would long\n",
    "  // time. In the mean time we would send message to its other behaviors\n",
    "  // and see if they respond back before we get result from behavior 3.\n",
    "  //\n",
    "  // Since we are using 'then' we expect that even though we sent the messages\n",
    "  // to behavior 1 and 2, they would get triggered/processed even though the behavior\n",
    "  // 3 has still not finished\n",
    "\n",
    "  self->send(some_one, caf::get_atom::value); // behavior 3\n",
    "\n",
    "  self->send(some_one, \"SomeMessage\"); // behavior 2\n",
    "\n",
    "  self->send(some_one, 4); // behavior 1\n",
    "\n",
    "  std::cout << \"Press any char to terminate ..\" << std::endl;\n",
    "  std::cin.get();\n",
    "}"
   ]
  },
  {
   "cell_type": "markdown",
   "metadata": {},
   "source": [
    "If you see \"In behavior 2\" and \"In Behavior 1\" then it would mean that these messages were sent and processed while we were waiting for long running behavior 3. This is the expected behavior !\n",
    "\n",
    "Run it to verify and make sure to wait for few seconds before pressing the enter."
   ]
  },
  {
   "cell_type": "code",
   "execution_count": 9,
   "metadata": {},
   "outputs": [
    {
     "name": "stdout",
     "output_type": "stream",
     "text": [
      "Press any char to terminate ..\n",
      "In Behavior 2 \n",
      "In Behavior 1 \n"
     ]
    },
    {
     "name": "stdin",
     "output_type": "stream",
     "text": [
      " e\n"
     ]
    },
    {
     "name": "stdout",
     "output_type": "stream",
     "text": [
      "Received result from buddy 50\n"
     ]
    }
   ],
   "source": [
    "caf_main()"
   ]
  },
  {
   "cell_type": "code",
   "execution_count": null,
   "metadata": {},
   "outputs": [],
   "source": []
  }
 ],
 "metadata": {
  "kernelspec": {
   "display_name": "C++14",
   "language": "C++14",
   "name": "xcpp14"
  },
  "language_info": {
   "codemirror_mode": "text/x-c++src",
   "file_extension": ".cpp",
   "mimetype": "text/x-c++src",
   "name": "c++",
   "version": "-std=c++14"
  }
 },
 "nbformat": 4,
 "nbformat_minor": 2
}
