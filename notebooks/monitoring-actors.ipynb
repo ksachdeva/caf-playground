{
 "cells": [
  {
   "cell_type": "code",
   "execution_count": 1,
   "metadata": {},
   "outputs": [],
   "source": [
    "// we need to specify the path and explicitly load the CAF library\n",
    "#pragma cling add_library_path(\"/usr/local/lib\")\n",
    "#pragma cling add_include_path(\"/usr/local/include\")\n",
    "#pragma cling load(\"/usr/local/lib/libcaf_core.so\")"
   ]
  },
  {
   "cell_type": "markdown",
   "metadata": {},
   "source": [
    "# Monitoring Actors"
   ]
  },
  {
   "cell_type": "markdown",
   "metadata": {},
   "source": [
    "This example demonstrates how a class based actor can monitor other actor(s)."
   ]
  },
  {
   "cell_type": "markdown",
   "metadata": {},
   "source": [
    "Why is it important to monitor ?\n",
    "\n",
    "An actor can get killed and/or declares itself dead. There are use cases\n",
    "where other actors may be interested in knowing about such events.\n",
    "\n",
    "Here we will build an actor that adds to its state what is supplied in its\n",
    "message until it reaches 3. If the new state >= 3 then it would quit (i.e. terminate itself).\n",
    "\n",
    "Please note that **quit()** means that it logically *unregisters* itself\n",
    "from the actor system however the object still remains alive until all the\n",
    "references to it go away (explicity or implicitly)."
   ]
  },
  {
   "cell_type": "code",
   "execution_count": 2,
   "metadata": {},
   "outputs": [],
   "source": [
    "#include <iostream>\n",
    "#include <string>\n",
    "#include <caf/all.hpp>"
   ]
  },
  {
   "cell_type": "markdown",
   "metadata": {},
   "source": [
    "## Define trait"
   ]
  },
  {
   "cell_type": "code",
   "execution_count": 3,
   "metadata": {},
   "outputs": [],
   "source": [
    "using add_atom = caf::atom_constant<caf::atom(\"add\")>;\n",
    "\n",
    "// this is a trait for actors that will add until\n",
    "// they reach 3 and then they terminate themselves\n",
    "using uptill_3_adder = caf::typed_actor<caf::reacts_to<add_atom, int>>;"
   ]
  },
  {
   "cell_type": "markdown",
   "metadata": {},
   "source": [
    "## Implementation of the trait"
   ]
  },
  {
   "cell_type": "code",
   "execution_count": 4,
   "metadata": {},
   "outputs": [],
   "source": [
    "class AddUntilReach3 : public uptill_3_adder::base {\n",
    "public:\n",
    "  AddUntilReach3(caf::actor_config &cfg) : uptill_3_adder::base(cfg) {\n",
    "    this->_value = 0;\n",
    "  }\n",
    "  ~AddUntilReach3() {\n",
    "    std::cout << \"[CLS] AddUntilReach3 Destructor called\" << std::endl;\n",
    "  }\n",
    "\n",
    "public:\n",
    "  AddUntilReach3::behavior_type make_behavior() {\n",
    "    return {\n",
    "\n",
    "        // the behaviors for this actor\n",
    "        [=](add_atom, int x) {\n",
    "          caf::aout(this) << \"[CLS] Current Value is \" << this->_value\n",
    "                          << std::endl;\n",
    "          this->_value += x;\n",
    "          caf::aout(this) << \"[CLS] New Value is \" << this->_value << std::endl;\n",
    "\n",
    "          if (this->_value >= 3) {\n",
    "            caf::aout(this)\n",
    "                << \"[CLS] Actor reached its purpose so it will terminate \"\n",
    "                << std::endl;\n",
    "\n",
    "            // You can invoke quit with out any error code\n",
    "            // as well\n",
    "            this->quit(caf::exit_reason::user_shutdown);\n",
    "          }\n",
    "        }};\n",
    "  }\n",
    "\n",
    "private:\n",
    "  // state is maintained in the class based actor\n",
    "  int _value;\n",
    "};"
   ]
  },
  {
   "cell_type": "markdown",
   "metadata": {},
   "source": [
    "We will also implement another actor that would spawn **AddUnitReach3** actor and would monitor it.\n",
    "    \n",
    "Let's call it **ASpawnerActor** !\n"
   ]
  },
  {
   "cell_type": "code",
   "execution_count": 6,
   "metadata": {},
   "outputs": [],
   "source": [
    "class ASpawnerActor : public caf::event_based_actor {\n",
    "public:\n",
    "  ASpawnerActor(caf::actor_config &cfg)\n",
    "      : caf::event_based_actor(cfg),\n",
    "        _adder(std::move(this->spawn<AddUntilReach3, caf::monitored>())) {\n",
    "\n",
    "    // Pay attention to how it was specified that this actor (i.e.\n",
    "    // ASpawnerActor) would like to monitor AddUntilReach3\n",
    "    //\n",
    "    // Note that this is not the only way to specify the intention to\n",
    "    // monitor. You could simply do this->monitor(other_actor) as well\n",
    "    // where other_actor the reference/handle of the actor to monitor\n",
    "\n",
    "    // Another important piece of code is how you would specify\n",
    "    // the lambda that would get invoked on quit events\n",
    "    set_down_handler([=](caf::down_msg &msg) {\n",
    "      std::cout << \"Received a down message\" << std::endl;\n",
    "\n",
    "      // this is one way to know which actor was terminated\n",
    "      if (msg.source == _adder.address()) {\n",
    "        std::cout << \"We received down message for adder actor \" << std::endl;\n",
    "      }\n",
    "    });\n",
    "  }\n",
    "\n",
    "  ~ASpawnerActor() {\n",
    "    std::cout << \"[CLS] ASpawnerActor Destructor called\" << std::endl;\n",
    "  }\n",
    "\n",
    "  void on_exit() override {\n",
    "    // This is a special method and gives you an opportunity to\n",
    "    // destroy (clean up) any references (especially that of other actors)\n",
    "    std::cout << \"in on_exit of ASpawnerActor \" << std::endl;\n",
    "    destroy(_adder);\n",
    "  }\n",
    "\n",
    "  caf::behavior make_behavior() override {\n",
    "    return {[=](int x, int y) {\n",
    "      // triggers 3 adds\n",
    "      this->send(this->_adder, add_atom::value, 1);\n",
    "      this->send(this->_adder, add_atom::value, 1);\n",
    "      this->send(this->_adder, add_atom::value, 1);\n",
    "\n",
    "      return x + y;\n",
    "    }};\n",
    "  }\n",
    "\n",
    "private:\n",
    "  uptill_3_adder _adder;\n",
    "};"
   ]
  },
  {
   "cell_type": "markdown",
   "metadata": {},
   "source": [
    "## Main / Entrypoint"
   ]
  },
  {
   "cell_type": "code",
   "execution_count": 7,
   "metadata": {},
   "outputs": [],
   "source": [
    "void caf_main() {\n",
    "    \n",
    "  caf::actor_system_config cfg;\n",
    "  caf::actor_system system{cfg};\n",
    "  caf::scoped_actor self{system};\n",
    "\n",
    "  auto spawner = self->spawn<ASpawnerActor>();\n",
    "\n",
    "  self->send(spawner, 2, 1);\n",
    "\n",
    "  std::cout << \"Press any char to terminate ..\" << std::endl;\n",
    "  std::cin.get();\n",
    "    \n",
    "}"
   ]
  },
  {
   "cell_type": "code",
   "execution_count": 8,
   "metadata": {},
   "outputs": [
    {
     "name": "stdout",
     "output_type": "stream",
     "text": [
      "Press any char to terminate ..\n",
      "[CLS] Current Value is 0\n",
      "[CLS] New Value is 1\n",
      "[CLS] Current Value is 1\n",
      "[CLS] New Value is 2\n",
      "[CLS] Current Value is 2\n",
      "[CLS] New Value is 3\n",
      "Received a down message\n",
      "We received down message for adder actor \n",
      "[CLS] Actor reached its purpose so it will terminate \n"
     ]
    },
    {
     "name": "stdin",
     "output_type": "stream",
     "text": [
      " p\n"
     ]
    },
    {
     "name": "stdout",
     "output_type": "stream",
     "text": [
      "in on_exit of ASpawnerActor \n",
      "[CLS] AddUntilReach3 Destructor called\n",
      "[CLS] ASpawnerActor Destructor called\n"
     ]
    }
   ],
   "source": [
    "caf_main()"
   ]
  },
  {
   "cell_type": "code",
   "execution_count": null,
   "metadata": {},
   "outputs": [],
   "source": []
  }
 ],
 "metadata": {
  "kernelspec": {
   "display_name": "C++14",
   "language": "C++14",
   "name": "xcpp14"
  },
  "language_info": {
   "codemirror_mode": "text/x-c++src",
   "file_extension": ".cpp",
   "mimetype": "text/x-c++src",
   "name": "c++",
   "version": "-std=c++14"
  }
 },
 "nbformat": 4,
 "nbformat_minor": 2
}
