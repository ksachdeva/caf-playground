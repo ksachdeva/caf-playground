{
 "cells": [
  {
   "cell_type": "code",
   "execution_count": 1,
   "metadata": {},
   "outputs": [],
   "source": [
    "// we need to specify the path and explicitly load the CAF library\n",
    "#pragma cling add_library_path(\"/usr/local/lib\")\n",
    "#pragma cling add_include_path(\"/usr/local/include\")\n",
    "#pragma cling load(\"/usr/local/lib/libcaf_core.so\")"
   ]
  },
  {
   "cell_type": "markdown",
   "metadata": {},
   "source": [
    "# Polymorphic Actors"
   ]
  },
  {
   "cell_type": "markdown",
   "metadata": {},
   "source": [
    "This example shows how one can have different implementations of a trait and therefore achieve the polymorphism.\n"
   ]
  },
  {
   "cell_type": "code",
   "execution_count": 2,
   "metadata": {},
   "outputs": [],
   "source": [
    "#include <iostream>\n",
    "#include <string>\n",
    "#include <caf/all.hpp>"
   ]
  },
  {
   "cell_type": "markdown",
   "metadata": {},
   "source": [
    "## Define trait"
   ]
  },
  {
   "cell_type": "code",
   "execution_count": 3,
   "metadata": {},
   "outputs": [],
   "source": [
    "using get_edges_atom = caf::atom_constant<caf::atom(\"get_edges\")>;\n",
    "\n",
    "// This is our interface definition that\n",
    "// various actors should implement\n",
    "using shape_actor =\n",
    "    caf::typed_actor<caf::replies_to<get_edges_atom>::with<int>>;"
   ]
  },
  {
   "cell_type": "markdown",
   "metadata": {},
   "source": [
    "## Various implementations of above trait"
   ]
  },
  {
   "cell_type": "markdown",
   "metadata": {},
   "source": [
    "We will implement shape_actor using the functions (statically typed and event\n",
    "based).\n",
    "\n",
    "We have 3 types of actors that implement the same interface.\n"
   ]
  },
  {
   "cell_type": "code",
   "execution_count": 4,
   "metadata": {},
   "outputs": [],
   "source": [
    "shape_actor::behavior_type circle_actor_fn() {\n",
    "  return {[](get_edges_atom) { return 0; }};\n",
    "};"
   ]
  },
  {
   "cell_type": "code",
   "execution_count": 5,
   "metadata": {},
   "outputs": [],
   "source": [
    "shape_actor::behavior_type triangle_actor_fn() {\n",
    "  return {[](get_edges_atom) { return 3; }};\n",
    "};\n"
   ]
  },
  {
   "cell_type": "code",
   "execution_count": 6,
   "metadata": {},
   "outputs": [],
   "source": [
    "shape_actor::behavior_type square_actor_fn() {\n",
    "  return {[](get_edges_atom) { return 4; }};\n",
    "};"
   ]
  },
  {
   "cell_type": "markdown",
   "metadata": {},
   "source": [
    "## An actor that uses the implementations"
   ]
  },
  {
   "cell_type": "code",
   "execution_count": 7,
   "metadata": {},
   "outputs": [],
   "source": [
    "// Now we build an actor that will be supplied one\n",
    "// of them and it would query the number of edges\n",
    "// using that\n",
    "\n",
    "// As should be clear from the signature of query_shapes\n",
    "// that it takes the trait as the argument. In other words,\n",
    "// the caller will provide the implementation\n",
    "\n",
    "void query_shapes(caf::event_based_actor *self, const shape_actor &shape) {\n",
    "  self->request(shape, std::chrono::seconds(10), get_edges_atom::value)\n",
    "      .then([=](const int &edges_count) {\n",
    "        caf::aout(self) << edges_count << std::endl;\n",
    "      });\n",
    "}"
   ]
  },
  {
   "cell_type": "markdown",
   "metadata": {},
   "source": [
    "## Main / Entrypoint"
   ]
  },
  {
   "cell_type": "code",
   "execution_count": 8,
   "metadata": {},
   "outputs": [],
   "source": [
    "void caf_main() {\n",
    "    \n",
    "  caf::actor_system_config cfg;\n",
    "  caf::actor_system system{cfg};\n",
    "  caf::scoped_actor self{system};\n",
    "\n",
    "  // create all of our shape actors\n",
    "  auto circle_actor = system.spawn(circle_actor_fn);\n",
    "  auto triangle_actor = system.spawn(triangle_actor_fn);\n",
    "  auto square_actor = system.spawn(square_actor_fn);\n",
    "\n",
    "  system.spawn(query_shapes, circle_actor);\n",
    "  system.spawn(query_shapes, triangle_actor);\n",
    "  system.spawn(query_shapes, square_actor);\n",
    "}"
   ]
  },
  {
   "cell_type": "code",
   "execution_count": 9,
   "metadata": {},
   "outputs": [
    {
     "name": "stdout",
     "output_type": "stream",
     "text": [
      "3\n",
      "0\n",
      "4\n"
     ]
    }
   ],
   "source": [
    "caf_main()"
   ]
  },
  {
   "cell_type": "code",
   "execution_count": null,
   "metadata": {},
   "outputs": [],
   "source": []
  }
 ],
 "metadata": {
  "kernelspec": {
   "display_name": "C++14",
   "language": "C++14",
   "name": "xcpp14"
  },
  "language_info": {
   "codemirror_mode": "text/x-c++src",
   "file_extension": ".cpp",
   "mimetype": "text/x-c++src",
   "name": "c++",
   "version": "-std=c++14"
  }
 },
 "nbformat": 4,
 "nbformat_minor": 2
}
