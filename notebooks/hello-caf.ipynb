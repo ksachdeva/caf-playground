{
 "cells": [
  {
   "cell_type": "code",
   "execution_count": 1,
   "metadata": {},
   "outputs": [],
   "source": [
    "// we need to specify the path and explicitly load the CAF library\n",
    "#pragma cling add_library_path(\"/usr/local/lib\")\n",
    "#pragma cling add_include_path(\"/usr/local/include\")\n",
    "#pragma cling load(\"/usr/local/lib/libcaf_core.so\")"
   ]
  },
  {
   "cell_type": "markdown",
   "metadata": {},
   "source": [
    "# Hello CAF"
   ]
  },
  {
   "cell_type": "markdown",
   "metadata": {},
   "source": [
    "This is a traditional hello world example with a twist\n",
    "\n",
    "Here we have two Actors\n",
    "\n",
    "Reverser - This actor has the super powers of taking any string and returning\n",
    "the reverse of it\n",
    "\n",
    "SomeOne - An actor that sends message to Reverser and expects\n",
    "the reversed version of the message it sent"
   ]
  },
  {
   "cell_type": "code",
   "execution_count": 2,
   "metadata": {},
   "outputs": [],
   "source": [
    "#include <iostream>\n",
    "#include <string>\n",
    "#include <caf/all.hpp>"
   ]
  },
  {
   "cell_type": "markdown",
   "metadata": {},
   "source": [
    "## Define the trait"
   ]
  },
  {
   "cell_type": "markdown",
   "metadata": {},
   "source": [
    "The very first thing we want to do is to define the trait for Reverser. If you come from C#/Java languages you can think of trait (conceptually) as an interface."
   ]
  },
  {
   "cell_type": "code",
   "execution_count": 3,
   "metadata": {},
   "outputs": [],
   "source": [
    "using reverser_actor = caf::typed_actor<\n",
    "    // the trait consist only of one method that takes string as an input\n",
    "    // and returns string as an output\n",
    "    caf::replies_to<std::string>::with<std::string>\n",
    ">;"
   ]
  },
  {
   "cell_type": "markdown",
   "metadata": {},
   "source": [
    "## Implement actor(s) that comply to a trait"
   ]
  },
  {
   "cell_type": "markdown",
   "metadata": {},
   "source": [
    "Implementation of actor can be done using a **function** or **class**. We will explore both here. Normally for use case\n",
    "like the one we have here function based actors are good enough."
   ]
  },
  {
   "cell_type": "markdown",
   "metadata": {},
   "source": [
    "### Function based actor implementation"
   ]
  },
  {
   "cell_type": "markdown",
   "metadata": {},
   "source": [
    "Return type of function based actors is trait_name::behavior_type\n",
    "\n",
    "There is one mandatory (first argument) of the function based actors\n",
    "and it is the pointer to the actor. \n",
    "\n",
    "What happens really behind the scenes\n",
    "in the framework is that it creates the 'object' and expects your function\n",
    "to provide the lambdas that comply with the trait. \n",
    "\n",
    "The framework then passes the object it created to the function and \n",
    "attaches the lambdas returned by it to the object.  "
   ]
  },
  {
   "cell_type": "code",
   "execution_count": 4,
   "metadata": {},
   "outputs": [],
   "source": [
    "reverser_actor::behavior_type mighty_reverser(reverser_actor::pointer self) {\n",
    "  return {\n",
    "\n",
    "      // Return a set of lambda functions that comply with the\n",
    "      // definition of your trait. Here we just have one method\n",
    "      // that accepts string as an input and returns string as\n",
    "      // an output\n",
    "\n",
    "      [=](const std::string &what) -> std::string {\n",
    "        caf::aout(self) << \"[FN] \" << what << std::endl;\n",
    "        return std::string(what.rbegin(), what.rend());\n",
    "      }};\n",
    "}"
   ]
  },
  {
   "cell_type": "markdown",
   "metadata": {},
   "source": [
    "### Class based actor implementation"
   ]
  },
  {
   "cell_type": "code",
   "execution_count": 5,
   "metadata": {},
   "outputs": [],
   "source": [
    "class TheMightyReverser : public reverser_actor::base {\n",
    "public:\n",
    "  TheMightyReverser(caf::actor_config &cfg) : reverser_actor::base(cfg) {}\n",
    "\n",
    "  // make_behavior is the mandatory method that you must\n",
    "  // implement\n",
    "\n",
    "  TheMightyReverser::behavior_type make_behavior() override {\n",
    "    // This block will feel a lot like the one that we created for\n",
    "    // the function based implementation of our actor\n",
    "    //\n",
    "    // Note how we now have access to 'this' and therefore\n",
    "    // all things you can traditionally access using `this` in\n",
    "    // an object (methods and fields) you can do now.\n",
    "\n",
    "    return {\n",
    "\n",
    "        // Return a set of lambda functions that comply with the\n",
    "        // definition of your trait. Here we just have one method\n",
    "        // that accepts string as an input and returns string as\n",
    "        // an output\n",
    "\n",
    "        [=](const std::string &what) -> std::string {\n",
    "          caf::aout(this) << \"[CLS] \" << what << std::endl;\n",
    "          return std::string(what.rbegin(), what.rend());\n",
    "        }};\n",
    "  }\n",
    "};"
   ]
  },
  {
   "cell_type": "markdown",
   "metadata": {},
   "source": [
    "## SomeOne - Another actor that will use reverser_actor"
   ]
  },
  {
   "cell_type": "markdown",
   "metadata": {},
   "source": [
    "We will define another actor that will make use of our reverser_actor.\n",
    "\n",
    "This actor does not implement any trait per say and we will simply implement it using function based approach.\n",
    "\n",
    "However, *SomeOne* requires a reference to actor that implements reverser_trait so we would pass that as the second argument.\n",
    "\n",
    "Note - the second argument is actually the trait (think interface) instead of the actual implementation. This gives you the freedom to pass any implementation (as long as it is compliant with the trait in the signature of the function)."
   ]
  },
  {
   "cell_type": "code",
   "execution_count": 6,
   "metadata": {},
   "outputs": [],
   "source": [
    "void some_one(caf::event_based_actor *self, const reverser_actor &reverser) {\n",
    "\n",
    "  // finally, the next line here shows how a request from actor to another\n",
    "  // actor is made. The first argument is the refernce (handle) to the actor\n",
    "  // to whom the message is to be sent. The second argument is for how long\n",
    "  // the requester will wait for the reply and the rest are arguments of the\n",
    "  // the method being invoked. In this case we only have one input string so\n",
    "  // we (as customary) send 'hello world'.\n",
    "  //\n",
    "  // Since the messaging is asynchronous our response would come some time\n",
    "  // later. In order to receive the return value we here attach a lambda\n",
    "  // with the help of 'then' method.\n",
    "  //\n",
    "  // What is most interesting about CAF is that all we do here is\n",
    "  // type-safe and compiler helps a lot !\n",
    "  //\n",
    "  // Try changing the input or output types in below code and compiler\n",
    "  // will send messages you way that you would think twice about doing\n",
    "  // such a thing :)\n",
    "\n",
    "  self->request(reverser, std::chrono::seconds(10), \"Hello World!\")\n",
    "      .then([=](const std::string &what) {\n",
    "        caf::aout(self) << what << std::endl;\n",
    "      });\n",
    "}"
   ]
  },
  {
   "cell_type": "markdown",
   "metadata": {},
   "source": [
    "## Spawning and runing our actors"
   ]
  },
  {
   "cell_type": "markdown",
   "metadata": {},
   "source": [
    "CAF provides CAF_MAIN macro to do some boilerplate setup ..unfortunately in the notebook we have do that manually."
   ]
  },
  {
   "cell_type": "code",
   "execution_count": 7,
   "metadata": {},
   "outputs": [],
   "source": [
    "void caf_main() {\n",
    "    \n",
    "  caf::actor_system_config cfg;\n",
    "  caf::actor_system system{cfg};\n",
    "  caf::scoped_actor self{system};\n",
    "\n",
    "  // let's create our mighty reverser using function based\n",
    "  // approach\n",
    "  auto fn_mighty_reverser_actor = self->spawn(mighty_reverser);\n",
    "\n",
    "  // the class based implementation is created using a similar way\n",
    "  auto cls_mighty_reverser_actor = self->spawn<TheMightyReverser>();\n",
    "\n",
    "  // now we need to spawn Mr. SomeOne as well\n",
    "  //\n",
    "  // it should be clear from the implementation of some_one that\n",
    "  // as it spawns it would send the request to mighty_reverser\n",
    "  auto some_one_actor = self->spawn(some_one, fn_mighty_reverser_actor);\n",
    "\n",
    "  // we spawn some_one again but this time with the refernce to the class\n",
    "  // based reverser\n",
    "  auto other_one_actor = self->spawn(some_one, cls_mighty_reverser_actor);\n",
    "\n",
    "  // here all our actors are going out of scope (RAII) and therefore\n",
    "  // will go away and free our memory in peace\n",
    "}"
   ]
  },
  {
   "cell_type": "code",
   "execution_count": 9,
   "metadata": {},
   "outputs": [
    {
     "name": "stdout",
     "output_type": "stream",
     "text": [
      "[FN] Hello World!\n",
      "!dlroW olleH\n",
      "[CLS] Hello World!\n",
      "!dlroW olleH\n"
     ]
    }
   ],
   "source": [
    "// time to invoke the main !\n",
    "caf_main()"
   ]
  },
  {
   "cell_type": "code",
   "execution_count": null,
   "metadata": {},
   "outputs": [],
   "source": []
  }
 ],
 "metadata": {
  "kernelspec": {
   "display_name": "C++14",
   "language": "C++14",
   "name": "xcpp14"
  },
  "language_info": {
   "codemirror_mode": "text/x-c++src",
   "file_extension": ".cpp",
   "mimetype": "text/x-c++src",
   "name": "c++",
   "version": "-std=c++14"
  }
 },
 "nbformat": 4,
 "nbformat_minor": 2
}
